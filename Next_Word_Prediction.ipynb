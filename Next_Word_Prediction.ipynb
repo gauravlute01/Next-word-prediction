{
 "cells": [
  {
   "cell_type": "markdown",
   "metadata": {},
   "source": [
    "# Next Word Prediction:"
   ]
  },
  {
   "cell_type": "markdown",
   "metadata": {},
   "source": [
    "### Importing The Required Libraries:"
   ]
  },
  {
   "cell_type": "code",
   "execution_count": 1,
   "metadata": {},
   "outputs": [],
   "source": [
    "import tensorflow as tf\n",
    "from tensorflow.keras.preprocessing.text import Tokenizer\n",
    "from tensorflow.keras.layers import Embedding, LSTM, Dense\n",
    "from tensorflow.keras.models import Sequential\n",
    "from tensorflow.keras.utils import to_categorical\n",
    "from tensorflow.keras.optimizers import Adam\n",
    "import pickle\n",
    "import numpy as np\n",
    "import os"
   ]
  },
  {
   "cell_type": "code",
   "execution_count": 2,
   "metadata": {},
   "outputs": [
    {
     "name": "stdout",
     "output_type": "stream",
     "text": [
      "The First Line:  ﻿One morning, when Gregor Samsa woke from troubled dreams, he found\n",
      "\n",
      "The Last Line:  first to get up and stretch out her young body.\n"
     ]
    }
   ],
   "source": [
    "# Remove all unneccesary data or text \n",
    "file = open(\"metamorphosis_clean.txt\", \"r\", encoding = \"utf8\")\n",
    "lines = []\n",
    "\n",
    "for i in file:\n",
    "    lines.append(i)\n",
    "    \n",
    "print(\"The First Line: \", lines[0])\n",
    "print(\"The Last Line: \", lines[-1])"
   ]
  },
  {
   "cell_type": "markdown",
   "metadata": {},
   "source": [
    "### Cleaning the data:"
   ]
  },
  {
   "cell_type": "code",
   "execution_count": 3,
   "metadata": {},
   "outputs": [
    {
     "data": {
      "text/plain": [
       "'One morning, when Gregor Samsa woke from troubled dreams, he found himself transformed in his bed into a horrible vermin.  He lay on his armour-like back, and if he lifted his head a little he could see his brown belly, slightly domed and divided by arches into stiff sections.  The bedding was hardly able to cover it and seemed ready to slide off any moment.'"
      ]
     },
     "execution_count": 3,
     "metadata": {},
     "output_type": "execute_result"
    }
   ],
   "source": [
    "data = \"\"\n",
    "\n",
    "for i in lines:\n",
    "    data = ' '. join(lines)\n",
    "    \n",
    "data = data.replace('\\n', '').replace('\\r', '').replace('\\ufeff', '')\n",
    "data[:360]"
   ]
  },
  {
   "cell_type": "code",
   "execution_count": 4,
   "metadata": {},
   "outputs": [
    {
     "data": {
      "text/plain": [
       "'One morning  when Gregor Samsa woke from troubled dreams  he found himself transformed in his bed into a horrible vermin   He lay on his armour like back  and if he lifted his head a little he could see his brown belly  slightly domed and divided by arches into stiff sections   The bedding was hardly able to cover it and seemed ready to slide off any moment   His many legs  pitifully thin compared with the size of the rest of him  waved about helplessly as he looked    What s happened to me   he'"
      ]
     },
     "execution_count": 4,
     "metadata": {},
     "output_type": "execute_result"
    }
   ],
   "source": [
    "import string\n",
    "\n",
    "translator = str.maketrans(string.punctuation, ' '*len(string.punctuation)) #map punctuation to space\n",
    "new_data = data.translate(translator)\n",
    "\n",
    "new_data[:500]"
   ]
  },
  {
   "cell_type": "code",
   "execution_count": 5,
   "metadata": {},
   "outputs": [
    {
     "data": {
      "text/plain": [
       "'One morning, when Gregor Samsa woke from troubled dreams, he found himself transformed in his bed into a horrible vermin. He lay on armour-like back, and if lifted head little could see brown belly, slightly domed divided by arches stiff sections. The bedding was hardly able to cover it seemed ready slide off any moment. His many legs, pitifully thin compared with the size of rest him, waved about helplessly as looked. \"What\\'s happened me?\" thought. It wasn\\'t dream. room, proper human room altho'"
      ]
     },
     "execution_count": 5,
     "metadata": {},
     "output_type": "execute_result"
    }
   ],
   "source": [
    "z = []\n",
    "\n",
    "for i in data.split():\n",
    "    if i not in z:\n",
    "        z.append(i)\n",
    "        \n",
    "data = ' '.join(z)\n",
    "data[:500]"
   ]
  },
  {
   "cell_type": "markdown",
   "metadata": {},
   "source": [
    "### Tokenization:"
   ]
  },
  {
   "cell_type": "code",
   "execution_count": 6,
   "metadata": {},
   "outputs": [
    {
     "data": {
      "text/plain": [
       "[17, 53, 293, 2, 18, 729, 135, 730, 294, 8]"
      ]
     },
     "execution_count": 6,
     "metadata": {},
     "output_type": "execute_result"
    }
   ],
   "source": [
    "tokenizer = Tokenizer()\n",
    "tokenizer.fit_on_texts([data])\n",
    "\n",
    "# saving the tokenizer for predict function.\n",
    "pickle.dump(tokenizer, open('tokenizer1.pkl', 'wb'))\n",
    "\n",
    "sequence_data = tokenizer.texts_to_sequences([data])[0]\n",
    "sequence_data[:10]"
   ]
  },
  {
   "cell_type": "code",
   "execution_count": 7,
   "metadata": {},
   "outputs": [
    {
     "name": "stdout",
     "output_type": "stream",
     "text": [
      "2617\n"
     ]
    }
   ],
   "source": [
    "vocab_size = len(tokenizer.word_index) + 1\n",
    "print(vocab_size)"
   ]
  },
  {
   "cell_type": "code",
   "execution_count": 8,
   "metadata": {},
   "outputs": [
    {
     "name": "stdout",
     "output_type": "stream",
     "text": [
      "The Length of sequences are:  3889\n"
     ]
    },
    {
     "data": {
      "text/plain": [
       "array([[ 17,  53],\n",
       "       [ 53, 293],\n",
       "       [293,   2],\n",
       "       [  2,  18],\n",
       "       [ 18, 729],\n",
       "       [729, 135],\n",
       "       [135, 730],\n",
       "       [730, 294],\n",
       "       [294,   8],\n",
       "       [  8, 731]])"
      ]
     },
     "execution_count": 8,
     "metadata": {},
     "output_type": "execute_result"
    }
   ],
   "source": [
    "sequences = []\n",
    "\n",
    "for i in range(1, len(sequence_data)):\n",
    "    words = sequence_data[i-1:i+1]\n",
    "    sequences.append(words)\n",
    "    \n",
    "print(\"The Length of sequences are: \", len(sequences))\n",
    "sequences = np.array(sequences)\n",
    "sequences[:10]"
   ]
  },
  {
   "cell_type": "code",
   "execution_count": 9,
   "metadata": {},
   "outputs": [],
   "source": [
    "X = []\n",
    "y = []\n",
    "\n",
    "for i in sequences:\n",
    "    X.append(i[0])\n",
    "    y.append(i[1])\n",
    "    \n",
    "X = np.array(X)\n",
    "y = np.array(y)"
   ]
  },
  {
   "cell_type": "code",
   "execution_count": 10,
   "metadata": {},
   "outputs": [
    {
     "name": "stdout",
     "output_type": "stream",
     "text": [
      "The Data is:  [ 17  53 293   2  18]\n",
      "The responses are:  [ 53 293   2  18 729]\n"
     ]
    }
   ],
   "source": [
    "print(\"The Data is: \", X[:5])\n",
    "print(\"The responses are: \", y[:5])"
   ]
  },
  {
   "cell_type": "code",
   "execution_count": 11,
   "metadata": {},
   "outputs": [
    {
     "data": {
      "text/plain": [
       "array([[0., 0., 0., ..., 0., 0., 0.],\n",
       "       [0., 0., 0., ..., 0., 0., 0.],\n",
       "       [0., 0., 1., ..., 0., 0., 0.],\n",
       "       [0., 0., 0., ..., 0., 0., 0.],\n",
       "       [0., 0., 0., ..., 0., 0., 0.]], dtype=float32)"
      ]
     },
     "execution_count": 11,
     "metadata": {},
     "output_type": "execute_result"
    }
   ],
   "source": [
    "y = to_categorical(y, num_classes=vocab_size)\n",
    "y[:5]"
   ]
  },
  {
   "cell_type": "markdown",
   "metadata": {},
   "source": [
    "### Creating the Model:"
   ]
  },
  {
   "cell_type": "code",
   "execution_count": 12,
   "metadata": {},
   "outputs": [],
   "source": [
    "model = Sequential()\n",
    "model.add(Embedding(vocab_size, 10, input_length=1))\n",
    "model.add(LSTM(1000, return_sequences=True))\n",
    "model.add(LSTM(1000))\n",
    "model.add(Dense(1000, activation=\"relu\"))\n",
    "model.add(Dense(vocab_size, activation=\"softmax\"))"
   ]
  },
  {
   "cell_type": "code",
   "execution_count": 13,
   "metadata": {},
   "outputs": [
    {
     "name": "stdout",
     "output_type": "stream",
     "text": [
      "Model: \"sequential\"\n",
      "_________________________________________________________________\n",
      "Layer (type)                 Output Shape              Param #   \n",
      "=================================================================\n",
      "embedding (Embedding)        (None, 1, 10)             26170     \n",
      "_________________________________________________________________\n",
      "lstm (LSTM)                  (None, 1, 1000)           4044000   \n",
      "_________________________________________________________________\n",
      "lstm_1 (LSTM)                (None, 1000)              8004000   \n",
      "_________________________________________________________________\n",
      "dense (Dense)                (None, 1000)              1001000   \n",
      "_________________________________________________________________\n",
      "dense_1 (Dense)              (None, 2617)              2619617   \n",
      "=================================================================\n",
      "Total params: 15,694,787\n",
      "Trainable params: 15,694,787\n",
      "Non-trainable params: 0\n",
      "_________________________________________________________________\n"
     ]
    }
   ],
   "source": [
    "model.summary()"
   ]
  },
  {
   "cell_type": "markdown",
   "metadata": {},
   "source": [
    "### Plot The Model:"
   ]
  },
  {
   "cell_type": "code",
   "execution_count": 14,
   "metadata": {},
   "outputs": [
    {
     "name": "stderr",
     "output_type": "stream",
     "text": [
      "Using TensorFlow backend.\n"
     ]
    },
    {
     "data": {
      "image/png": "[encoded data removed]",
      "text/plain": [
       "<IPython.core.display.Image object>"
      ]
     },
     "execution_count": 14,
     "metadata": {},
     "output_type": "execute_result"
    }
   ],
   "source": [
    "from tensorflow import keras\n",
    "from keras.utils.vis_utils import plot_model\n",
    "\n",
    "keras.utils.plot_model(model, to_file='model.png', show_layer_names=True)"
   ]
  },
  {
   "cell_type": "markdown",
   "metadata": {},
   "source": [
    "### Callbacks:"
   ]
  },
  {
   "cell_type": "code",
   "execution_count": 15,
   "metadata": {},
   "outputs": [],
   "source": [
    "from tensorflow.keras.callbacks import ModelCheckpoint\n",
    "from tensorflow.keras.callbacks import ReduceLROnPlateau\n",
    "from tensorflow.keras.callbacks import TensorBoard\n",
    "\n",
    "checkpoint = ModelCheckpoint(\"nextword1.h5\", monitor='loss', verbose=1,\n",
    "    save_best_only=True, mode='auto')\n",
    "\n",
    "reduce = ReduceLROnPlateau(monitor='loss', factor=0.2, patience=3, min_lr=0.0001, verbose = 1)\n",
    "\n",
    "logdir='logsnextword1'\n",
    "tensorboard_Visualization = TensorBoard(log_dir=logdir)"
   ]
  },
  {
   "cell_type": "markdown",
   "metadata": {},
   "source": [
    "### Compile The Model:"
   ]
  },
  {
   "cell_type": "code",
   "execution_count": 16,
   "metadata": {},
   "outputs": [],
   "source": [
    "model.compile(loss=\"categorical_crossentropy\", optimizer=Adam(lr=0.001))"
   ]
  },
  {
   "cell_type": "markdown",
   "metadata": {},
   "source": [
    "### Fit The Model:"
   ]
  },
  {
   "cell_type": "code",
   "execution_count": 17,
   "metadata": {},
   "outputs": [
    {
     "name": "stdout",
     "output_type": "stream",
     "text": [
      "Train on 3889 samples\n",
      "Epoch 1/150\n",
      "3712/3889 [===========================>..] - ETA: 0s - loss: 7.8752\n",
      "Epoch 00001: loss improved from inf to 7.87560, saving model to nextword1.h5\n",
      "3889/3889 [==============================] - 5s 1ms/sample - loss: 7.8756\n",
      "Epoch 2/150\n",
      "3648/3889 [===========================>..] - ETA: 0s - loss: 7.8587\n",
      "Epoch 00002: loss improved from 7.87560 to 7.86009, saving model to nextword1.h5\n",
      "3889/3889 [==============================] - 1s 331us/sample - loss: 7.8601\n",
      "Epoch 3/150\n",
      "3648/3889 [===========================>..] - ETA: 0s - loss: 7.8187\n",
      "Epoch 00003: loss improved from 7.86009 to 7.81623, saving model to nextword1.h5\n",
      "3889/3889 [==============================] - 1s 372us/sample - loss: 7.8162\n",
      "Epoch 4/150\n",
      "3648/3889 [===========================>..] - ETA: 0s - loss: 7.6399\n",
      "Epoch 00004: loss improved from 7.81623 to 7.63961, saving model to nextword1.h5\n",
      "3889/3889 [==============================] - 1s 327us/sample - loss: 7.6396\n",
      "Epoch 5/150\n",
      "3648/3889 [===========================>..] - ETA: 0s - loss: 7.4280\n",
      "Epoch 00005: loss improved from 7.63961 to 7.42898, saving model to nextword1.h5\n",
      "3889/3889 [==============================] - 1s 363us/sample - loss: 7.4290\n",
      "Epoch 6/150\n",
      "3648/3889 [===========================>..] - ETA: 0s - loss: 7.2234\n",
      "Epoch 00006: loss improved from 7.42898 to 7.23395, saving model to nextword1.h5\n",
      "3889/3889 [==============================] - 1s 335us/sample - loss: 7.2339\n",
      "Epoch 7/150\n",
      "3648/3889 [===========================>..] - ETA: 0s - loss: 6.9898\n",
      "Epoch 00007: loss improved from 7.23395 to 6.99421, saving model to nextword1.h5\n",
      "3889/3889 [==============================] - 1s 369us/sample - loss: 6.9942\n",
      "Epoch 8/150\n",
      "3648/3889 [===========================>..] - ETA: 0s - loss: 6.7034\n",
      "Epoch 00008: loss improved from 6.99421 to 6.70877, saving model to nextword1.h5\n",
      "3889/3889 [==============================] - 1s 335us/sample - loss: 6.7088\n",
      "Epoch 9/150\n",
      "3648/3889 [===========================>..] - ETA: 0s - loss: 6.4315\n",
      "Epoch 00009: loss improved from 6.70877 to 6.44175, saving model to nextword1.h5\n",
      "3889/3889 [==============================] - 1s 304us/sample - loss: 6.4417\n",
      "Epoch 10/150\n",
      "3648/3889 [===========================>..] - ETA: 0s - loss: 6.1955\n",
      "Epoch 00010: loss improved from 6.44175 to 6.21069, saving model to nextword1.h5\n",
      "3889/3889 [==============================] - 1s 329us/sample - loss: 6.2107\n",
      "Epoch 11/150\n",
      "3648/3889 [===========================>..] - ETA: 0s - loss: 6.0073\n",
      "Epoch 00011: loss improved from 6.21069 to 6.01610, saving model to nextword1.h5\n",
      "3889/3889 [==============================] - 1s 309us/sample - loss: 6.0161\n",
      "Epoch 12/150\n",
      "3648/3889 [===========================>..] - ETA: 0s - loss: 5.8053\n",
      "Epoch 00012: loss improved from 6.01610 to 5.81236, saving model to nextword1.h5\n",
      "3889/3889 [==============================] - 1s 346us/sample - loss: 5.8124\n",
      "Epoch 13/150\n",
      "3648/3889 [===========================>..] - ETA: 0s - loss: 5.6305\n",
      "Epoch 00013: loss improved from 5.81236 to 5.64033, saving model to nextword1.h5\n",
      "3889/3889 [==============================] - 1s 321us/sample - loss: 5.6403\n",
      "Epoch 14/150\n",
      "3648/3889 [===========================>..] - ETA: 0s - loss: 5.4578\n",
      "Epoch 00014: loss improved from 5.64033 to 5.47233, saving model to nextword1.h5\n",
      "3889/3889 [==============================] - 1s 312us/sample - loss: 5.4723\n",
      "Epoch 15/150\n",
      "3648/3889 [===========================>..] - ETA: 0s - loss: 5.2988\n",
      "Epoch 00015: loss improved from 5.47233 to 5.30519, saving model to nextword1.h5\n",
      "3889/3889 [==============================] - 1s 343us/sample - loss: 5.3052\n",
      "Epoch 16/150\n",
      "3648/3889 [===========================>..] - ETA: 0s - loss: 5.1645\n",
      "Epoch 00016: loss improved from 5.30519 to 5.17411, saving model to nextword1.h5\n",
      "3889/3889 [==============================] - 1s 326us/sample - loss: 5.1741\n",
      "Epoch 17/150\n",
      "3648/3889 [===========================>..] - ETA: 0s - loss: 5.0464\n",
      "Epoch 00017: loss improved from 5.17411 to 5.07256, saving model to nextword1.h5\n",
      "3889/3889 [==============================] - 1s 324us/sample - loss: 5.0726\n",
      "Epoch 18/150\n",
      "3648/3889 [===========================>..] - ETA: 0s - loss: 4.9512\n",
      "Epoch 00018: loss improved from 5.07256 to 4.96286, saving model to nextword1.h5\n",
      "3889/3889 [==============================] - 1s 332us/sample - loss: 4.9629\n",
      "Epoch 19/150\n",
      "3648/3889 [===========================>..] - ETA: 0s - loss: 4.8412\n",
      "Epoch 00019: loss improved from 4.96286 to 4.85318, saving model to nextword1.h5\n",
      "3889/3889 [==============================] - 1s 338us/sample - loss: 4.8532\n",
      "Epoch 20/150\n",
      "3648/3889 [===========================>..] - ETA: 0s - loss: 4.7396\n",
      "Epoch 00020: loss improved from 4.85318 to 4.76163, saving model to nextword1.h5\n",
      "3889/3889 [==============================] - 1s 362us/sample - loss: 4.7616\n",
      "Epoch 21/150\n",
      "3648/3889 [===========================>..] - ETA: 0s - loss: 4.6530- ETA: 0s - loss: 4.60\n",
      "Epoch 00021: loss improved from 4.76163 to 4.67074, saving model to nextword1.h5\n",
      "3889/3889 [==============================] - 1s 351us/sample - loss: 4.6707\n",
      "Epoch 22/150\n",
      "3648/3889 [===========================>..] - ETA: 0s - loss: 4.5669\n",
      "Epoch 00022: loss improved from 4.67074 to 4.57855, saving model to nextword1.h5\n",
      "3889/3889 [==============================] - 1s 351us/sample - loss: 4.5785\n",
      "Epoch 23/150\n",
      "3648/3889 [===========================>..] - ETA: 0s - loss: 4.4609\n",
      "Epoch 00023: loss improved from 4.57855 to 4.47391, saving model to nextword1.h5\n",
      "3889/3889 [==============================] - 1s 341us/sample - loss: 4.4739\n",
      "Epoch 24/150\n",
      "3648/3889 [===========================>..] - ETA: 0s - loss: 4.3753\n",
      "Epoch 00024: loss improved from 4.47391 to 4.39767, saving model to nextword1.h5\n",
      "3889/3889 [==============================] - 1s 337us/sample - loss: 4.3977\n",
      "Epoch 25/150\n",
      "3648/3889 [===========================>..] - ETA: 0s - loss: 4.3182\n",
      "Epoch 00025: loss improved from 4.39767 to 4.33766, saving model to nextword1.h5\n",
      "3889/3889 [==============================] - 1s 372us/sample - loss: 4.3377\n",
      "Epoch 26/150\n",
      "3648/3889 [===========================>..] - ETA: 0s - loss: 4.2283\n",
      "Epoch 00026: loss improved from 4.33766 to 4.25059, saving model to nextword1.h5\n",
      "3889/3889 [==============================] - 1s 349us/sample - loss: 4.2506\n",
      "Epoch 27/150\n",
      "3648/3889 [===========================>..] - ETA: 0s - loss: 4.1376\n",
      "Epoch 00027: loss improved from 4.25059 to 4.15881, saving model to nextword1.h5\n",
      "3889/3889 [==============================] - 1s 349us/sample - loss: 4.1588\n",
      "Epoch 28/150\n",
      "3648/3889 [===========================>..] - ETA: 0s - loss: 4.0388\n",
      "Epoch 00028: loss improved from 4.15881 to 4.04326, saving model to nextword1.h5\n",
      "3889/3889 [==============================] - 1s 354us/sample - loss: 4.0433\n",
      "Epoch 29/150\n",
      "3648/3889 [===========================>..] - ETA: 0s - loss: 3.9224\n",
      "Epoch 00029: loss improved from 4.04326 to 3.93666, saving model to nextword1.h5\n",
      "3889/3889 [==============================] - 1s 348us/sample - loss: 3.9367\n",
      "Epoch 30/150\n",
      "3648/3889 [===========================>..] - ETA: 0s - loss: 3.7954\n",
      "Epoch 00030: loss improved from 3.93666 to 3.81460, saving model to nextword1.h5\n",
      "3889/3889 [==============================] - 1s 330us/sample - loss: 3.8146\n",
      "Epoch 31/150\n",
      "3648/3889 [===========================>..] - ETA: 0s - loss: 3.6849\n",
      "Epoch 00031: loss improved from 3.81460 to 3.70621, saving model to nextword1.h5\n",
      "3889/3889 [==============================] - 1s 367us/sample - loss: 3.7062\n",
      "Epoch 32/150\n",
      "3648/3889 [===========================>..] - ETA: 0s - loss: 3.5543\n",
      "Epoch 00032: loss improved from 3.70621 to 3.57647, saving model to nextword1.h5\n",
      "3889/3889 [==============================] - 1s 338us/sample - loss: 3.5765\n",
      "Epoch 33/150\n",
      "3648/3889 [===========================>..] - ETA: 0s - loss: 3.4483\n",
      "Epoch 00033: loss improved from 3.57647 to 3.45974, saving model to nextword1.h5\n",
      "3889/3889 [==============================] - 1s 346us/sample - loss: 3.4597\n",
      "Epoch 34/150\n",
      "3648/3889 [===========================>..] - ETA: 0s - loss: 3.3385\n",
      "Epoch 00034: loss improved from 3.45974 to 3.35306, saving model to nextword1.h5\n",
      "3889/3889 [==============================] - 2s 395us/sample - loss: 3.3531\n",
      "Epoch 35/150\n",
      "3648/3889 [===========================>..] - ETA: 0s - loss: 3.2418\n",
      "Epoch 00035: loss improved from 3.35306 to 3.25955, saving model to nextword1.h5\n",
      "3889/3889 [==============================] - 1s 321us/sample - loss: 3.2596\n",
      "Epoch 36/150\n",
      "3648/3889 [===========================>..] - ETA: 0s - loss: 3.1403\n",
      "Epoch 00036: loss improved from 3.25955 to 3.15727, saving model to nextword1.h5\n",
      "3889/3889 [==============================] - 1s 347us/sample - loss: 3.1573\n",
      "Epoch 37/150\n",
      "3648/3889 [===========================>..] - ETA: 0s - loss: 3.0100\n",
      "Epoch 00037: loss improved from 3.15727 to 3.04076, saving model to nextword1.h5\n",
      "3889/3889 [==============================] - 1s 366us/sample - loss: 3.0408\n",
      "Epoch 38/150\n",
      "3648/3889 [===========================>..] - ETA: 0s - loss: 2.9453\n",
      "Epoch 00038: loss improved from 3.04076 to 2.96700, saving model to nextword1.h5\n",
      "3889/3889 [==============================] - 1s 321us/sample - loss: 2.9670\n",
      "Epoch 39/150\n",
      "3648/3889 [===========================>..] - ETA: 0s - loss: 2.8686\n",
      "Epoch 00039: loss improved from 2.96700 to 2.89164, saving model to nextword1.h5\n",
      "3889/3889 [==============================] - 1s 369us/sample - loss: 2.8916\n",
      "Epoch 40/150\n",
      "3648/3889 [===========================>..] - ETA: 0s - loss: 2.8006\n",
      "Epoch 00040: loss improved from 2.89164 to 2.82129, saving model to nextword1.h5\n",
      "3889/3889 [==============================] - 1s 338us/sample - loss: 2.8213\n",
      "Epoch 41/150\n",
      "3648/3889 [===========================>..] - ETA: 0s - loss: 2.7267\n",
      "Epoch 00041: loss improved from 2.82129 to 2.74699, saving model to nextword1.h5\n",
      "3889/3889 [==============================] - 1s 352us/sample - loss: 2.7470\n",
      "Epoch 42/150\n",
      "3648/3889 [===========================>..] - ETA: 0s - loss: 2.6175\n",
      "Epoch 00042: loss improved from 2.74699 to 2.64779, saving model to nextword1.h5\n",
      "3889/3889 [==============================] - 1s 375us/sample - loss: 2.6478\n",
      "Epoch 43/150\n",
      "3648/3889 [===========================>..] - ETA: 0s - loss: 2.5763\n",
      "Epoch 00043: loss improved from 2.64779 to 2.59631, saving model to nextword1.h5\n",
      "3889/3889 [==============================] - 1s 318us/sample - loss: 2.5963\n",
      "Epoch 44/150\n",
      "3648/3889 [===========================>..] - ETA: 0s - loss: 2.5125\n",
      "Epoch 00044: loss improved from 2.59631 to 2.53560, saving model to nextword1.h5\n",
      "3889/3889 [==============================] - 1s 366us/sample - loss: 2.5356\n",
      "Epoch 45/150\n",
      "3648/3889 [===========================>..] - ETA: 0s - loss: 2.4683\n",
      "Epoch 00045: loss improved from 2.53560 to 2.48991, saving model to nextword1.h5\n",
      "3889/3889 [==============================] - 1s 364us/sample - loss: 2.4899\n",
      "Epoch 46/150\n",
      "3648/3889 [===========================>..] - ETA: 0s - loss: 2.4373\n",
      "Epoch 00046: loss improved from 2.48991 to 2.45095, saving model to nextword1.h5\n",
      "3889/3889 [==============================] - 1s 337us/sample - loss: 2.4509\n",
      "Epoch 47/150\n",
      "3648/3889 [===========================>..] - ETA: 0s - loss: 2.3554\n",
      "Epoch 00047: loss improved from 2.45095 to 2.38200, saving model to nextword1.h5\n",
      "3889/3889 [==============================] - 1s 340us/sample - loss: 2.3820\n",
      "Epoch 48/150\n",
      "3840/3889 [============================>.] - ETA: 0s - loss: 2.3300\n",
      "Epoch 00048: loss improved from 2.38200 to 2.33441, saving model to nextword1.h5\n",
      "3889/3889 [==============================] - 1s 374us/sample - loss: 2.3344\n",
      "Epoch 49/150\n",
      "3648/3889 [===========================>..] - ETA: 0s - loss: 2.2349\n",
      "Epoch 00049: loss improved from 2.33441 to 2.26422, saving model to nextword1.h5\n",
      "3889/3889 [==============================] - 1s 347us/sample - loss: 2.2642\n",
      "Epoch 50/150\n",
      "3648/3889 [===========================>..] - ETA: 0s - loss: 2.1906\n",
      "Epoch 00050: loss improved from 2.26422 to 2.21210, saving model to nextword1.h5\n",
      "3889/3889 [==============================] - 1s 326us/sample - loss: 2.2121\n",
      "Epoch 51/150\n",
      "3648/3889 [===========================>..] - ETA: 0s - loss: 2.1362\n",
      "Epoch 00051: loss improved from 2.21210 to 2.16222, saving model to nextword1.h5\n",
      "3889/3889 [==============================] - 1s 363us/sample - loss: 2.1622\n",
      "Epoch 52/150\n",
      "3648/3889 [===========================>..] - ETA: 0s - loss: 2.0559\n",
      "Epoch 00052: loss improved from 2.16222 to 2.07998, saving model to nextword1.h5\n",
      "3889/3889 [==============================] - 1s 346us/sample - loss: 2.0800\n",
      "Epoch 53/150\n",
      "3648/3889 [===========================>..] - ETA: 0s - loss: 2.0071\n",
      "Epoch 00053: loss improved from 2.07998 to 2.03807, saving model to nextword1.h5\n",
      "3889/3889 [==============================] - 1s 343us/sample - loss: 2.0381\n",
      "Epoch 54/150\n",
      "3648/3889 [===========================>..] - ETA: 0s - loss: 1.9955\n",
      "Epoch 00054: loss improved from 2.03807 to 2.01186, saving model to nextword1.h5\n",
      "3889/3889 [==============================] - 1s 363us/sample - loss: 2.0119\n",
      "Epoch 55/150\n",
      "3648/3889 [===========================>..] - ETA: 0s - loss: 1.9206\n",
      "Epoch 00055: loss improved from 2.01186 to 1.94076, saving model to nextword1.h5\n",
      "3889/3889 [==============================] - 1s 335us/sample - loss: 1.9408\n",
      "Epoch 56/150\n",
      "3648/3889 [===========================>..] - ETA: 0s - loss: 1.8732\n",
      "Epoch 00056: loss improved from 1.94076 to 1.89430, saving model to nextword1.h5\n",
      "3889/3889 [==============================] - 1s 355us/sample - loss: 1.8943\n",
      "Epoch 57/150\n",
      "3648/3889 [===========================>..] - ETA: 0s - loss: 1.8295\n",
      "Epoch 00057: loss improved from 1.89430 to 1.84639, saving model to nextword1.h5\n",
      "3889/3889 [==============================] - 1s 341us/sample - loss: 1.8464\n",
      "Epoch 58/150\n",
      "3648/3889 [===========================>..] - ETA: 0s - loss: 1.8001\n",
      "Epoch 00058: loss improved from 1.84639 to 1.81274, saving model to nextword1.h5\n",
      "3889/3889 [==============================] - 1s 369us/sample - loss: 1.8127\n",
      "Epoch 59/150\n",
      "3648/3889 [===========================>..] - ETA: 0s - loss: 1.7316\n",
      "Epoch 00059: loss improved from 1.81274 to 1.75823, saving model to nextword1.h5\n",
      "3889/3889 [==============================] - 1s 352us/sample - loss: 1.7582\n",
      "Epoch 60/150\n",
      "3648/3889 [===========================>..] - ETA: 0s - loss: 1.7274\n",
      "Epoch 00060: loss improved from 1.75823 to 1.74511, saving model to nextword1.h5\n",
      "3889/3889 [==============================] - 1s 334us/sample - loss: 1.7451\n",
      "Epoch 61/150\n",
      "3648/3889 [===========================>..] - ETA: 0s - loss: 1.6874\n",
      "Epoch 00061: loss improved from 1.74511 to 1.69725, saving model to nextword1.h5\n",
      "3889/3889 [==============================] - 1s 335us/sample - loss: 1.6973\n",
      "Epoch 62/150\n",
      "3648/3889 [===========================>..] - ETA: 0s - loss: 1.6354\n",
      "Epoch 00062: loss improved from 1.69725 to 1.65130, saving model to nextword1.h5\n",
      "3889/3889 [==============================] - 1s 323us/sample - loss: 1.6513\n",
      "Epoch 63/150\n",
      "3648/3889 [===========================>..] - ETA: 0s - loss: 1.5929\n",
      "Epoch 00063: loss improved from 1.65130 to 1.61970, saving model to nextword1.h5\n",
      "3889/3889 [==============================] - 1s 324us/sample - loss: 1.6197\n",
      "Epoch 64/150\n",
      "3648/3889 [===========================>..] - ETA: 0s - loss: 1.5776\n",
      "Epoch 00064: loss improved from 1.61970 to 1.59771, saving model to nextword1.h5\n",
      "3889/3889 [==============================] - 1s 324us/sample - loss: 1.5977\n",
      "Epoch 65/150\n",
      "3648/3889 [===========================>..] - ETA: 0s - loss: 1.5653\n",
      "Epoch 00065: loss improved from 1.59771 to 1.58945, saving model to nextword1.h5\n",
      "3889/3889 [==============================] - 1s 325us/sample - loss: 1.5895\n",
      "Epoch 66/150\n",
      "3648/3889 [===========================>..] - ETA: 0s - loss: 1.5389\n",
      "Epoch 00066: loss improved from 1.58945 to 1.55059, saving model to nextword1.h5\n",
      "3889/3889 [==============================] - 1s 380us/sample - loss: 1.5506\n",
      "Epoch 67/150\n",
      "3776/3889 [============================>.] - ETA: 0s - loss: 1.4600\n",
      "Epoch 00067: loss improved from 1.55059 to 1.47310, saving model to nextword1.h5\n",
      "3889/3889 [==============================] - 1s 360us/sample - loss: 1.4731\n",
      "Epoch 68/150\n",
      "3648/3889 [===========================>..] - ETA: 0s - loss: 1.3935\n",
      "Epoch 00068: loss improved from 1.47310 to 1.41295, saving model to nextword1.h5\n",
      "3889/3889 [==============================] - 1s 348us/sample - loss: 1.4130\n",
      "Epoch 69/150\n",
      "3648/3889 [===========================>..] - ETA: 0s - loss: 1.3613\n",
      "Epoch 00069: loss improved from 1.41295 to 1.37151, saving model to nextword1.h5\n"
     ]
    },
    {
     "name": "stdout",
     "output_type": "stream",
     "text": [
      "3889/3889 [==============================] - 1s 370us/sample - loss: 1.3715\n",
      "Epoch 70/150\n",
      "3648/3889 [===========================>..] - ETA: 0s - loss: 1.3227\n",
      "Epoch 00070: loss improved from 1.37151 to 1.33558, saving model to nextword1.h5\n",
      "3889/3889 [==============================] - 1s 358us/sample - loss: 1.3356\n",
      "Epoch 71/150\n",
      "3648/3889 [===========================>..] - ETA: 0s - loss: 1.2890\n",
      "Epoch 00071: loss improved from 1.33558 to 1.31252, saving model to nextword1.h5\n",
      "3889/3889 [==============================] - 1s 319us/sample - loss: 1.3125\n",
      "Epoch 72/150\n",
      "3648/3889 [===========================>..] - ETA: 0s - loss: 1.2673\n",
      "Epoch 00072: loss improved from 1.31252 to 1.28071, saving model to nextword1.h5\n",
      "3889/3889 [==============================] - 1s 358us/sample - loss: 1.2807\n",
      "Epoch 73/150\n",
      "3648/3889 [===========================>..] - ETA: 0s - loss: 1.2503\n",
      "Epoch 00073: loss improved from 1.28071 to 1.26773, saving model to nextword1.h5\n",
      "3889/3889 [==============================] - 2s 394us/sample - loss: 1.2677\n",
      "Epoch 74/150\n",
      "3648/3889 [===========================>..] - ETA: 0s - loss: 1.2162\n",
      "Epoch 00074: loss improved from 1.26773 to 1.23261, saving model to nextword1.h5\n",
      "3889/3889 [==============================] - 1s 313us/sample - loss: 1.2326\n",
      "Epoch 75/150\n",
      "3648/3889 [===========================>..] - ETA: 0s - loss: 1.1998\n",
      "Epoch 00075: loss improved from 1.23261 to 1.22247, saving model to nextword1.h5\n",
      "3889/3889 [==============================] - 1s 357us/sample - loss: 1.2225\n",
      "Epoch 76/150\n",
      "3648/3889 [===========================>..] - ETA: 0s - loss: 1.1733\n",
      "Epoch 00076: loss improved from 1.22247 to 1.20326, saving model to nextword1.h5\n",
      "3889/3889 [==============================] - 1s 341us/sample - loss: 1.2033\n",
      "Epoch 77/150\n",
      "3776/3889 [============================>.] - ETA: 0s - loss: 1.1803\n",
      "Epoch 00077: loss improved from 1.20326 to 1.18947, saving model to nextword1.h5\n",
      "3889/3889 [==============================] - 1s 343us/sample - loss: 1.1895\n",
      "Epoch 78/150\n",
      "3648/3889 [===========================>..] - ETA: 0s - loss: 1.1621\n",
      "Epoch 00078: loss improved from 1.18947 to 1.17934, saving model to nextword1.h5\n",
      "3889/3889 [==============================] - 1s 343us/sample - loss: 1.1793\n",
      "Epoch 79/150\n",
      "3776/3889 [============================>.] - ETA: 0s - loss: 1.1849\n",
      "Epoch 00079: loss did not improve from 1.17934\n",
      "3889/3889 [==============================] - 1s 244us/sample - loss: 1.1901\n",
      "Epoch 80/150\n",
      "3648/3889 [===========================>..] - ETA: 0s - loss: 1.1713\n",
      "Epoch 00080: loss improved from 1.17934 to 1.17593, saving model to nextword1.h5\n",
      "3889/3889 [==============================] - 1s 384us/sample - loss: 1.1759\n",
      "Epoch 81/150\n",
      "3648/3889 [===========================>..] - ETA: 0s - loss: 1.1598\n",
      "Epoch 00081: loss did not improve from 1.17593\n",
      "3889/3889 [==============================] - 1s 255us/sample - loss: 1.1792\n",
      "Epoch 82/150\n",
      "3648/3889 [===========================>..] - ETA: 0s - loss: 1.1384\n",
      "Epoch 00082: loss improved from 1.17593 to 1.14731, saving model to nextword1.h5\n",
      "3889/3889 [==============================] - 1s 305us/sample - loss: 1.1473\n",
      "Epoch 83/150\n",
      "3648/3889 [===========================>..] - ETA: 0s - loss: 1.1196\n",
      "Epoch 00083: loss improved from 1.14731 to 1.13632, saving model to nextword1.h5\n",
      "3889/3889 [==============================] - 1s 378us/sample - loss: 1.1363\n",
      "Epoch 84/150\n",
      "3648/3889 [===========================>..] - ETA: 0s - loss: 1.1390\n",
      "Epoch 00084: loss did not improve from 1.13632\n",
      "3889/3889 [==============================] - 1s 324us/sample - loss: 1.1542\n",
      "Epoch 85/150\n",
      "3648/3889 [===========================>..] - ETA: 0s - loss: 1.1067\n",
      "Epoch 00085: loss improved from 1.13632 to 1.13034, saving model to nextword1.h5\n",
      "3889/3889 [==============================] - 1s 317us/sample - loss: 1.1303\n",
      "Epoch 86/150\n",
      "3648/3889 [===========================>..] - ETA: 0s - loss: 1.0991\n",
      "Epoch 00086: loss improved from 1.13034 to 1.11426, saving model to nextword1.h5\n",
      "3889/3889 [==============================] - 1s 369us/sample - loss: 1.1143\n",
      "Epoch 87/150\n",
      "3648/3889 [===========================>..] - ETA: 0s - loss: 1.0856\n",
      "Epoch 00087: loss improved from 1.11426 to 1.10867, saving model to nextword1.h5\n",
      "3889/3889 [==============================] - 1s 378us/sample - loss: 1.1087\n",
      "Epoch 88/150\n",
      "3648/3889 [===========================>..] - ETA: 0s - loss: 1.0854\n",
      "Epoch 00088: loss improved from 1.10867 to 1.09807, saving model to nextword1.h5\n",
      "3889/3889 [==============================] - 2s 393us/sample - loss: 1.0981\n",
      "Epoch 89/150\n",
      "3648/3889 [===========================>..] - ETA: 0s - loss: 1.0814\n",
      "Epoch 00089: loss improved from 1.09807 to 1.09314, saving model to nextword1.h5\n",
      "3889/3889 [==============================] - 1s 371us/sample - loss: 1.0931\n",
      "Epoch 90/150\n",
      "3648/3889 [===========================>..] - ETA: 0s - loss: 1.0725\n",
      "Epoch 00090: loss improved from 1.09314 to 1.08705, saving model to nextword1.h5\n",
      "3889/3889 [==============================] - 2s 394us/sample - loss: 1.0870\n",
      "Epoch 91/150\n",
      "3648/3889 [===========================>..] - ETA: 0s - loss: 1.0691\n",
      "Epoch 00091: loss improved from 1.08705 to 1.08696, saving model to nextword1.h5\n",
      "3889/3889 [==============================] - 1s 370us/sample - loss: 1.0870\n",
      "Epoch 92/150\n",
      "3648/3889 [===========================>..] - ETA: 0s - loss: 1.0672\n",
      "Epoch 00092: loss improved from 1.08696 to 1.07776, saving model to nextword1.h5\n",
      "3889/3889 [==============================] - 1s 369us/sample - loss: 1.0778\n",
      "Epoch 93/150\n",
      "3648/3889 [===========================>..] - ETA: 0s - loss: 1.0441\n",
      "Epoch 00093: loss improved from 1.07776 to 1.05813, saving model to nextword1.h5\n",
      "3889/3889 [==============================] - 2s 390us/sample - loss: 1.0581\n",
      "Epoch 94/150\n",
      "3648/3889 [===========================>..] - ETA: 0s - loss: 1.0451\n",
      "Epoch 00094: loss did not improve from 1.05813\n",
      "3889/3889 [==============================] - 1s 241us/sample - loss: 1.0633\n",
      "Epoch 95/150\n",
      "3840/3889 [============================>.] - ETA: 0s - loss: 1.0503\n",
      "Epoch 00095: loss improved from 1.05813 to 1.05076, saving model to nextword1.h5\n",
      "3889/3889 [==============================] - 2s 394us/sample - loss: 1.0508\n",
      "Epoch 96/150\n",
      "3840/3889 [============================>.] - ETA: 0s - loss: 1.0671\n",
      "Epoch 00096: loss did not improve from 1.05076\n",
      "3889/3889 [==============================] - 1s 327us/sample - loss: 1.0668\n",
      "Epoch 97/150\n",
      "3648/3889 [===========================>..] - ETA: 0s - loss: 1.0559\n",
      "Epoch 00097: loss did not improve from 1.05076\n",
      "3889/3889 [==============================] - 1s 255us/sample - loss: 1.0644\n",
      "Epoch 98/150\n",
      "3648/3889 [===========================>..] - ETA: 0s - loss: 1.0557\n",
      "Epoch 00098: loss did not improve from 1.05076\n",
      "\n",
      "Epoch 00098: ReduceLROnPlateau reducing learning rate to 0.00020000000949949026.\n",
      "3889/3889 [==============================] - 1s 279us/sample - loss: 1.0708\n",
      "Epoch 99/150\n",
      "3648/3889 [===========================>..] - ETA: 0s - loss: 0.8185\n",
      "Epoch 00099: loss improved from 1.05076 to 0.81769, saving model to nextword1.h5\n",
      "3889/3889 [==============================] - 1s 363us/sample - loss: 0.8177\n",
      "Epoch 100/150\n",
      "3648/3889 [===========================>..] - ETA: 0s - loss: 0.7314\n",
      "Epoch 00100: loss improved from 0.81769 to 0.73557, saving model to nextword1.h5\n",
      "3889/3889 [==============================] - 1s 362us/sample - loss: 0.7356\n",
      "Epoch 101/150\n",
      "3648/3889 [===========================>..] - ETA: 0s - loss: 0.7066\n",
      "Epoch 00101: loss improved from 0.73557 to 0.70975, saving model to nextword1.h5\n",
      "3889/3889 [==============================] - 1s 374us/sample - loss: 0.7097\n",
      "Epoch 102/150\n",
      "3648/3889 [===========================>..] - ETA: 0s - loss: 0.6923\n",
      "Epoch 00102: loss improved from 0.70975 to 0.69729, saving model to nextword1.h5\n",
      "3889/3889 [==============================] - 1s 377us/sample - loss: 0.6973\n",
      "Epoch 103/150\n",
      "3648/3889 [===========================>..] - ETA: 0s - loss: 0.6857\n",
      "Epoch 00103: loss improved from 0.69729 to 0.69078, saving model to nextword1.h5\n",
      "3889/3889 [==============================] - 1s 374us/sample - loss: 0.6908\n",
      "Epoch 104/150\n",
      "3648/3889 [===========================>..] - ETA: 0s - loss: 0.6814\n",
      "Epoch 00104: loss improved from 0.69078 to 0.68539, saving model to nextword1.h5\n",
      "3889/3889 [==============================] - 1s 372us/sample - loss: 0.6854\n"
     ]
    },
    {
     "name": "stdout",
     "output_type": "stream",
     "text": [
      "Epoch 105/150\n",
      "3648/3889 [===========================>..] - ETA: 0s - loss: 0.6752- ETA: 0s - los\n",
      "Epoch 00105: loss improved from 0.68539 to 0.68348, saving model to nextword1.h5\n",
      "3889/3889 [==============================] - 2s 411us/sample - loss: 0.6835\n",
      "Epoch 106/150\n",
      "3648/3889 [===========================>..] - ETA: 0s - loss: 0.6793\n",
      "Epoch 00106: loss improved from 0.68348 to 0.68141, saving model to nextword1.h5\n",
      "3889/3889 [==============================] - 1s 381us/sample - loss: 0.6814\n",
      "Epoch 107/150\n",
      "3648/3889 [===========================>..] - ETA: 0s - loss: 0.6729\n",
      "Epoch 00107: loss improved from 0.68141 to 0.67983, saving model to nextword1.h5\n",
      "3889/3889 [==============================] - 2s 413us/sample - loss: 0.6798\n",
      "Epoch 108/150\n",
      "3648/3889 [===========================>..] - ETA: 0s - loss: 0.6734\n",
      "Epoch 00108: loss did not improve from 0.67983\n",
      "3889/3889 [==============================] - 1s 297us/sample - loss: 0.6801\n",
      "Epoch 109/150\n",
      "3648/3889 [===========================>..] - ETA: 0s - loss: 0.6769\n",
      "Epoch 00109: loss improved from 0.67983 to 0.67935, saving model to nextword1.h5\n",
      "3889/3889 [==============================] - 1s 314us/sample - loss: 0.6794\n",
      "Epoch 110/150\n",
      "3648/3889 [===========================>..] - ETA: 0s - loss: 0.6763\n",
      "Epoch 00110: loss improved from 0.67935 to 0.67788, saving model to nextword1.h5\n",
      "3889/3889 [==============================] - 1s 349us/sample - loss: 0.6779\n",
      "Epoch 111/150\n",
      "3648/3889 [===========================>..] - ETA: 0s - loss: 0.6808\n",
      "Epoch 00111: loss did not improve from 0.67788\n",
      "3889/3889 [==============================] - 1s 292us/sample - loss: 0.6784\n",
      "Epoch 112/150\n",
      "3648/3889 [===========================>..] - ETA: 0s - loss: 0.6728\n",
      "Epoch 00112: loss did not improve from 0.67788\n",
      "3889/3889 [==============================] - 1s 241us/sample - loss: 0.6782\n",
      "Epoch 113/150\n",
      "3648/3889 [===========================>..] - ETA: 0s - loss: 0.6707\n",
      "Epoch 00113: loss improved from 0.67788 to 0.67655, saving model to nextword1.h5\n",
      "3889/3889 [==============================] - 1s 312us/sample - loss: 0.6766\n",
      "Epoch 114/150\n",
      "3648/3889 [===========================>..] - ETA: 0s - loss: 0.6726\n",
      "Epoch 00114: loss did not improve from 0.67655\n",
      "3889/3889 [==============================] - 1s 236us/sample - loss: 0.6768\n",
      "Epoch 115/150\n",
      "3648/3889 [===========================>..] - ETA: 0s - loss: 0.6741\n",
      "Epoch 00115: loss improved from 0.67655 to 0.67492, saving model to nextword1.h5\n",
      "3889/3889 [==============================] - 1s 309us/sample - loss: 0.6749\n",
      "Epoch 116/150\n",
      "3648/3889 [===========================>..] - ETA: 0s - loss: 0.6697\n",
      "Epoch 00116: loss did not improve from 0.67492\n",
      "3889/3889 [==============================] - 1s 239us/sample - loss: 0.6767\n",
      "Epoch 117/150\n",
      "3648/3889 [===========================>..] - ETA: 0s - loss: 0.6695\n",
      "Epoch 00117: loss did not improve from 0.67492\n",
      "3889/3889 [==============================] - 1s 239us/sample - loss: 0.6762\n",
      "Epoch 118/150\n",
      "3648/3889 [===========================>..] - ETA: 0s - loss: 0.6687\n",
      "Epoch 00118: loss did not improve from 0.67492\n",
      "\n",
      "Epoch 00118: ReduceLROnPlateau reducing learning rate to 0.0001.\n",
      "3889/3889 [==============================] - 1s 236us/sample - loss: 0.6754\n",
      "Epoch 119/150\n",
      "3648/3889 [===========================>..] - ETA: 0s - loss: 0.6331\n",
      "Epoch 00119: loss improved from 0.67492 to 0.63376, saving model to nextword1.h5\n",
      "3889/3889 [==============================] - 1s 312us/sample - loss: 0.6338\n",
      "Epoch 120/150\n",
      "3840/3889 [============================>.] - ETA: 0s - loss: 0.6335\n",
      "Epoch 00120: loss improved from 0.63376 to 0.63225, saving model to nextword1.h5\n",
      "3889/3889 [==============================] - 2s 389us/sample - loss: 0.6322\n",
      "Epoch 121/150\n",
      "3648/3889 [===========================>..] - ETA: 0s - loss: 0.6284\n",
      "Epoch 00121: loss improved from 0.63225 to 0.63113, saving model to nextword1.h5\n",
      "3889/3889 [==============================] - 1s 366us/sample - loss: 0.6311\n",
      "Epoch 122/150\n",
      "3648/3889 [===========================>..] - ETA: 0s - loss: 0.6256\n",
      "Epoch 00122: loss did not improve from 0.63113\n",
      "3889/3889 [==============================] - 1s 270us/sample - loss: 0.6321\n",
      "Epoch 123/150\n",
      "3648/3889 [===========================>..] - ETA: 0s - loss: 0.6317\n",
      "Epoch 00123: loss did not improve from 0.63113\n",
      "3889/3889 [==============================] - 1s 240us/sample - loss: 0.6312\n",
      "Epoch 124/150\n",
      "3648/3889 [===========================>..] - ETA: 0s - loss: 0.6226\n",
      "Epoch 00124: loss improved from 0.63113 to 0.63077, saving model to nextword1.h5\n",
      "3889/3889 [==============================] - 1s 307us/sample - loss: 0.6308\n",
      "Epoch 125/150\n",
      "3648/3889 [===========================>..] - ETA: 0s - loss: 0.6297\n",
      "Epoch 00125: loss did not improve from 0.63077\n",
      "3889/3889 [==============================] - 1s 239us/sample - loss: 0.6312\n",
      "Epoch 126/150\n",
      "3648/3889 [===========================>..] - ETA: 0s - loss: 0.6310\n",
      "Epoch 00126: loss improved from 0.63077 to 0.62999, saving model to nextword1.h5\n",
      "3889/3889 [==============================] - 2s 426us/sample - loss: 0.6300\n",
      "Epoch 127/150\n",
      "3840/3889 [============================>.] - ETA: 0s - loss: 0.6318\n",
      "Epoch 00127: loss did not improve from 0.62999\n",
      "3889/3889 [==============================] - 1s 255us/sample - loss: 0.6301\n",
      "Epoch 128/150\n",
      "3648/3889 [===========================>..] - ETA: 0s - loss: 0.6250\n",
      "Epoch 00128: loss did not improve from 0.62999\n",
      "3889/3889 [==============================] - 1s 270us/sample - loss: 0.6301\n",
      "Epoch 129/150\n",
      "3648/3889 [===========================>..] - ETA: 0s - loss: 0.6258\n",
      "Epoch 00129: loss did not improve from 0.62999\n",
      "3889/3889 [==============================] - 1s 252us/sample - loss: 0.6302\n",
      "Epoch 130/150\n",
      "3648/3889 [===========================>..] - ETA: 0s - loss: 0.6189\n",
      "Epoch 00130: loss improved from 0.62999 to 0.62929, saving model to nextword1.h5\n",
      "3889/3889 [==============================] - 1s 321us/sample - loss: 0.6293\n",
      "Epoch 131/150\n",
      "3648/3889 [===========================>..] - ETA: 0s - loss: 0.6209\n",
      "Epoch 00131: loss improved from 0.62929 to 0.62818, saving model to nextword1.h5\n",
      "3889/3889 [==============================] - 1s 375us/sample - loss: 0.6282\n",
      "Epoch 132/150\n",
      "3648/3889 [===========================>..] - ETA: 0s - loss: 0.6254\n",
      "Epoch 00132: loss did not improve from 0.62818\n",
      "3889/3889 [==============================] - 1s 327us/sample - loss: 0.6285\n",
      "Epoch 133/150\n",
      "3648/3889 [===========================>..] - ETA: 0s - loss: 0.6216\n",
      "Epoch 00133: loss did not improve from 0.62818\n",
      "3889/3889 [==============================] - 1s 252us/sample - loss: 0.6298\n",
      "Epoch 134/150\n",
      "3648/3889 [===========================>..] - ETA: 0s - loss: 0.6237\n",
      "Epoch 00134: loss did not improve from 0.62818\n",
      "3889/3889 [==============================] - 1s 238us/sample - loss: 0.6291\n",
      "Epoch 135/150\n",
      "3648/3889 [===========================>..] - ETA: 0s - loss: 0.6272\n",
      "Epoch 00135: loss did not improve from 0.62818\n",
      "3889/3889 [==============================] - 1s 285us/sample - loss: 0.6283\n",
      "Epoch 136/150\n",
      "3648/3889 [===========================>..] - ETA: 0s - loss: 0.6247\n",
      "Epoch 00136: loss improved from 0.62818 to 0.62810, saving model to nextword1.h5\n",
      "3889/3889 [==============================] - 1s 317us/sample - loss: 0.6281\n",
      "Epoch 137/150\n",
      "3648/3889 [===========================>..] - ETA: 0s - loss: 0.6254- ETA: 0s - loss: 0.62\n",
      "Epoch 00137: loss did not improve from 0.62810\n",
      "3889/3889 [==============================] - 1s 268us/sample - loss: 0.6291\n",
      "Epoch 138/150\n",
      "3648/3889 [===========================>..] - ETA: 0s - loss: 0.6234\n",
      "Epoch 00138: loss improved from 0.62810 to 0.62745, saving model to nextword1.h5\n",
      "3889/3889 [==============================] - 1s 331us/sample - loss: 0.6274\n",
      "Epoch 139/150\n",
      "3648/3889 [===========================>..] - ETA: 0s - loss: 0.6240\n",
      "Epoch 00139: loss did not improve from 0.62745\n",
      "3889/3889 [==============================] - 1s 235us/sample - loss: 0.6282\n",
      "Epoch 140/150\n",
      "3648/3889 [===========================>..] - ETA: 0s - loss: 0.6221\n",
      "Epoch 00140: loss did not improve from 0.62745\n",
      "3889/3889 [==============================] - 1s 274us/sample - loss: 0.6279\n",
      "Epoch 141/150\n",
      "3648/3889 [===========================>..] - ETA: 0s - loss: 0.6226\n",
      "Epoch 00141: loss improved from 0.62745 to 0.62663, saving model to nextword1.h5\n",
      "3889/3889 [==============================] - 1s 313us/sample - loss: 0.6266\n"
     ]
    },
    {
     "name": "stdout",
     "output_type": "stream",
     "text": [
      "Epoch 142/150\n",
      "3776/3889 [============================>.] - ETA: 0s - loss: 0.6279\n",
      "Epoch 00142: loss did not improve from 0.62663\n",
      "3889/3889 [==============================] - 1s 319us/sample - loss: 0.6278\n",
      "Epoch 143/150\n",
      "3648/3889 [===========================>..] - ETA: 0s - loss: 0.6270\n",
      "Epoch 00143: loss did not improve from 0.62663\n",
      "3889/3889 [==============================] - 1s 249us/sample - loss: 0.6268\n",
      "Epoch 144/150\n",
      "3648/3889 [===========================>..] - ETA: 0s - loss: 0.6195\n",
      "Epoch 00144: loss did not improve from 0.62663\n",
      "3889/3889 [==============================] - 1s 239us/sample - loss: 0.6276\n",
      "Epoch 145/150\n",
      "3648/3889 [===========================>..] - ETA: 0s - loss: 0.6204\n",
      "Epoch 00145: loss did not improve from 0.62663\n",
      "3889/3889 [==============================] - 1s 239us/sample - loss: 0.6271\n",
      "Epoch 146/150\n",
      "3648/3889 [===========================>..] - ETA: 0s - loss: 0.6203\n",
      "Epoch 00146: loss did not improve from 0.62663\n",
      "3889/3889 [==============================] - 1s 239us/sample - loss: 0.6267\n",
      "Epoch 147/150\n",
      "3648/3889 [===========================>..] - ETA: 0s - loss: 0.6190\n",
      "Epoch 00147: loss improved from 0.62663 to 0.62624, saving model to nextword1.h5\n",
      "3889/3889 [==============================] - 2s 403us/sample - loss: 0.6262\n",
      "Epoch 148/150\n",
      "3648/3889 [===========================>..] - ETA: 0s - loss: 0.6177\n",
      "Epoch 00148: loss improved from 0.62624 to 0.62619, saving model to nextword1.h5\n",
      "3889/3889 [==============================] - 1s 375us/sample - loss: 0.6262\n",
      "Epoch 149/150\n",
      "3648/3889 [===========================>..] - ETA: 0s - loss: 0.6208\n",
      "Epoch 00149: loss did not improve from 0.62619\n",
      "3889/3889 [==============================] - 1s 290us/sample - loss: 0.6268\n",
      "Epoch 150/150\n",
      "3648/3889 [===========================>..] - ETA: 0s - loss: 0.6263\n",
      "Epoch 00150: loss improved from 0.62619 to 0.62493, saving model to nextword1.h5\n",
      "3889/3889 [==============================] - 1s 369us/sample - loss: 0.6249\n"
     ]
    },
    {
     "data": {
      "text/plain": [
       "<tensorflow.python.keras.callbacks.History at 0x20eef7fa308>"
      ]
     },
     "execution_count": 17,
     "metadata": {},
     "output_type": "execute_result"
    }
   ],
   "source": [
    "model.fit(X, y, epochs=150, batch_size=64, callbacks=[checkpoint, reduce, tensorboard_Visualization])"
   ]
  }
 ],
 "metadata": {
  "kernelspec": {
   "display_name": "Python 3 (ipykernel)",
   "language": "python",
   "name": "python3"
  },
  "language_info": {
   "codemirror_mode": {
    "name": "ipython",
    "version": 3
   },
   "file_extension": ".py",
   "mimetype": "text/x-python",
   "name": "python",
   "nbconvert_exporter": "python",
   "pygments_lexer": "ipython3",
   "version": "3.10.12"
  }
 },
 "nbformat": 4,
 "nbformat_minor": 4
}
